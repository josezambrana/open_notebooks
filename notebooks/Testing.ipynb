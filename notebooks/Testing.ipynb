{
 "cells": [
  {
   "cell_type": "markdown",
   "metadata": {},
   "source": [
    "# Initial"
   ]
  },
  {
   "cell_type": "markdown",
   "metadata": {},
   "source": [
    "Lorem ipsum dolor sit amet, consectetur adipiscing elit"
   ]
  },
  {
   "cell_type": "markdown",
   "metadata": {},
   "source": [
    "Curabitur ornare nisl quis lectus pulvinar, nec condimentum mi pretium. Ut tincidunt, quam id molestie vulputate, tellus mauris congue arcu, eu mattis diam massa non nibh. Suspendisse vel posuere purus, ac feugiat eros. Proin pellentesque, mi ut tincidunt viverra, turpis arcu ultricies metus, ac tempor nisi felis et odio. Proin ut volutpat ante. In faucibus tortor id massa ultrices, id consequat dolor accumsan"
   ]
  },
  {
   "cell_type": "code",
   "execution_count": null,
   "metadata": {},
   "outputs": [],
   "source": []
  }
 ],
 "metadata": {
  "kernelspec": {
   "display_name": "Python 2",
   "language": "python",
   "name": "python2"
  },
  "language_info": {
   "codemirror_mode": {
    "name": "ipython",
    "version": 2
   },
   "file_extension": ".py",
   "mimetype": "text/x-python",
   "name": "python",
   "nbconvert_exporter": "python",
   "pygments_lexer": "ipython2",
   "version": "2.7.15"
  }
 },
 "nbformat": 4,
 "nbformat_minor": 2
}
